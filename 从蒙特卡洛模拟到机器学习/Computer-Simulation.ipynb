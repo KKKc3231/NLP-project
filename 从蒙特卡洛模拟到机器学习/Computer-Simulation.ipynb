{
 "cells": [
  {
   "cell_type": "markdown",
   "metadata": {},
   "source": [
    "## 从蒙特卡洛模拟到机器学习，数学、概率和计算机科学的应用"
   ]
  },
  {
   "cell_type": "markdown",
   "metadata": {},
   "source": [
    "## 思考一个问题"
   ]
  },
  {
   "cell_type": "markdown",
   "metadata": {},
   "source": [
    "炸金花：3张牌\n",
    "\n",
    "豹子：三张数字一样的 （红桃6， 黑桃6，方片6）\n",
    "清一色：三张颜色一样的（红桃A， 红6， 红10）\n",
    "顺子：数字顺联关系 （234， A23, JQK, QKA）"
   ]
  },
  {
   "cell_type": "markdown",
   "metadata": {},
   "source": [
    "## 问 \n",
    "\n",
    "### 1. 清一色概率和顺子的概率哪个大？"
   ]
  },
  {
   "cell_type": "markdown",
   "metadata": {},
   "source": [
    "小红： JQK \n",
    "小张： 三张红"
   ]
  },
  {
   "cell_type": "markdown",
   "metadata": {},
   "source": [
    "## 概率这个学科的起源，就是赌博"
   ]
  },
  {
   "cell_type": "markdown",
   "metadata": {},
   "source": [
    "## 概率，并不好求解\n",
    "\n",
    "## 有一个人老爱去“蒙特卡洛”的赌场进行赌博\n",
    "\n",
    "## 计算机，能不能用计算机来计算概率"
   ]
  },
  {
   "cell_type": "markdown",
   "metadata": {},
   "source": [
    "$$ Probability =  \\frac{events} {space} $$"
   ]
  },
  {
   "cell_type": "code",
   "execution_count": 8,
   "metadata": {},
   "outputs": [],
   "source": [
    "from fractions import Fraction"
   ]
  },
  {
   "cell_type": "code",
   "execution_count": 15,
   "metadata": {},
   "outputs": [
    {
     "data": {
      "text/plain": [
       "Fraction(1, 2)"
      ]
     },
     "execution_count": 15,
     "metadata": {},
     "output_type": "execute_result"
    }
   ],
   "source": [
    "Fraction(5, 10)"
   ]
  },
  {
   "cell_type": "code",
   "execution_count": 13,
   "metadata": {},
   "outputs": [],
   "source": [
    "def pro(event, space):\n",
    "    return Fraction(len(event & space),  len(space))"
   ]
  },
  {
   "cell_type": "code",
   "execution_count": 51,
   "metadata": {},
   "outputs": [],
   "source": [
    "花色s = '♥ ♠ ♦ ♣'.split()"
   ]
  },
  {
   "cell_type": "code",
   "execution_count": 52,
   "metadata": {},
   "outputs": [],
   "source": [
    "数字s = 'A 2 3 4 5 6 7 8 9 10 J Q K'.split()"
   ]
  },
  {
   "cell_type": "code",
   "execution_count": 53,
   "metadata": {},
   "outputs": [],
   "source": [
    "all_cards = ['{}-{}'.format(c, n) for c in 花色s for n in 数字s]"
   ]
  },
  {
   "cell_type": "code",
   "execution_count": 54,
   "metadata": {},
   "outputs": [],
   "source": [
    "import random"
   ]
  },
  {
   "cell_type": "code",
   "execution_count": 55,
   "metadata": {},
   "outputs": [],
   "source": [
    "def generate_one():\n",
    "    return random.sample(all_cards, 3)"
   ]
  },
  {
   "cell_type": "code",
   "execution_count": 60,
   "metadata": {},
   "outputs": [
    {
     "data": {
      "text/plain": [
       "['♦-5', '♠-8', '♠-9']"
      ]
     },
     "execution_count": 60,
     "metadata": {},
     "output_type": "execute_result"
    }
   ],
   "source": [
    "generate_one()"
   ]
  },
  {
   "cell_type": "code",
   "execution_count": 82,
   "metadata": {},
   "outputs": [
    {
     "data": {
      "text/plain": [
       "['5', '10', '6']"
      ]
     },
     "execution_count": 82,
     "metadata": {},
     "output_type": "execute_result"
    }
   ],
   "source": []
  },
  {
   "cell_type": "code",
   "execution_count": 86,
   "metadata": {},
   "outputs": [],
   "source": [
    "card_value_map = {\n",
    "    'A': (1, 14),\n",
    "    'J': (11,),\n",
    "    'Q': (12, ),\n",
    "    'K': (13, )\n",
    "}"
   ]
  },
  {
   "cell_type": "code",
   "execution_count": 141,
   "metadata": {},
   "outputs": [],
   "source": [
    "random_value = random.sample('A 2 3 4 5 6 7 8 9 10 J Q K'.split(), 3)\n",
    "\n"
   ]
  },
  {
   "cell_type": "code",
   "execution_count": 142,
   "metadata": {},
   "outputs": [
    {
     "data": {
      "text/plain": [
       "[(7,), (9,), (6,)]"
      ]
     },
     "execution_count": 142,
     "metadata": {},
     "output_type": "execute_result"
    }
   ],
   "source": [
    "values"
   ]
  },
  {
   "cell_type": "code",
   "execution_count": 159,
   "metadata": {},
   "outputs": [],
   "source": [
    "def card_numeric_value_is_squence(numeric_values):\n",
    "    is_sequence = False\n",
    "    for possible in product(*numeric_values):\n",
    "        sorted_values = sorted(possible)\n",
    "        if sorted_values[-1] - sorted_values[1] == sorted_values[1] - sorted_values[0] == 1:\n",
    "            is_sequence = True\n",
    "            break\n",
    "    return is_sequence"
   ]
  },
  {
   "cell_type": "code",
   "execution_count": 107,
   "metadata": {},
   "outputs": [],
   "source": [
    "from itertools import product"
   ]
  },
  {
   "cell_type": "code",
   "execution_count": 109,
   "metadata": {},
   "outputs": [
    {
     "name": "stdout",
     "output_type": "stream",
     "text": [
      "(1, 10, '金色')\n",
      "(1, 10, '蓝色')\n",
      "(1, 10, '白色')\n",
      "(1, 12, '金色')\n",
      "(1, 12, '蓝色')\n",
      "(1, 12, '白色')\n",
      "(2, 10, '金色')\n",
      "(2, 10, '蓝色')\n",
      "(2, 10, '白色')\n",
      "(2, 12, '金色')\n",
      "(2, 12, '蓝色')\n",
      "(2, 12, '白色')\n"
     ]
    }
   ],
   "source": [
    "for n in product([1, 2], [10, 12], ['金色', '蓝色', '白色']):\n",
    "    print(n)"
   ]
  },
  {
   "cell_type": "code",
   "execution_count": 239,
   "metadata": {},
   "outputs": [],
   "source": [
    "def get_card_numeric_values(card_numbers):\n",
    "    values = []\n",
    "    \n",
    "    for n in card_numbers:\n",
    "        try:\n",
    "            card_value =(int(n), )\n",
    "        except ValueError as e:\n",
    "            card_value = card_value_map[n]\n",
    "        \n",
    "        values.append(card_value) \n",
    "    \n",
    "    return values\n",
    "\n",
    "def get_card_info(cards):\n",
    "    values = [c.split('-') for c in cards]\n",
    "    colors = [c for c, n in values]\n",
    "    numbers = [n for c, n in values] \n",
    "    return colors, numbers\n",
    "\n",
    "def is_sequence(cards):\n",
    "    colors, numbers = get_card_info(cards)\n",
    "    \n",
    "    card_numeric_values = get_card_numeric_values(numbers)\n",
    "    \n",
    "    sequence = card_numeric_value_is_squence(card_numeric_values)\n",
    "    \n",
    "    return sequence and  len(set(colors)) > 1\n",
    "\n",
    "def is_same_color_and_sequence(cards):\n",
    "    colors, numbers = get_card_info(cards)\n",
    "    card_numeric_values = get_card_numeric_values(numbers)\n",
    "    return card_numeric_value_is_squence(card_numeric_values) and is_same_color(cards)\n",
    "\n",
    "def is_same_color(cards):\n",
    "    colors, numbers = get_card_info(cards)\n",
    "    return len(set(colors)) == 1 and not is_sequence(cards)\n",
    "\n",
    "def is_all_same(cards):\n",
    "    colors, numbers = get_card_info(cards)\n",
    "    \n",
    "    return len(set(numbers)) == 1"
   ]
  },
  {
   "cell_type": "code",
   "execution_count": 206,
   "metadata": {},
   "outputs": [],
   "source": [
    "def is_couple(cards):\n",
    "    colors, numbers = get_card_info(cards)\n",
    "    \n",
    "    return len(set(numbers)) == 2"
   ]
  },
  {
   "cell_type": "code",
   "execution_count": 207,
   "metadata": {},
   "outputs": [],
   "source": [
    "from collections import Counter"
   ]
  },
  {
   "cell_type": "code",
   "execution_count": 208,
   "metadata": {},
   "outputs": [],
   "source": [
    "from collections import defaultdict"
   ]
  },
  {
   "cell_type": "code",
   "execution_count": 209,
   "metadata": {},
   "outputs": [],
   "source": [
    "from tqdm.notebook import tqdm"
   ]
  },
  {
   "cell_type": "code",
   "execution_count": 240,
   "metadata": {},
   "outputs": [
    {
     "data": {
      "text/plain": [
       "True"
      ]
     },
     "execution_count": 240,
     "metadata": {},
     "output_type": "execute_result"
    }
   ],
   "source": [
    "is_same_color_and_sequence(('♥-3', '♥-4', '♥-5'))"
   ]
  },
  {
   "cell_type": "code",
   "execution_count": 272,
   "metadata": {},
   "outputs": [],
   "source": [
    "feature_name_map = [\n",
    "    (is_same_color_and_sequence, '同花顺'),\n",
    "    (is_same_color, '清一色'),\n",
    "    (is_sequence, '顺子'),\n",
    "    (is_couple, '对子'),\n",
    "    (is_all_same, '豹子'),\n",
    "]\n",
    "\n",
    "def get_feature_name(one_hand):\n",
    "    name = '啥也不是'\n",
    "    for func, n in feature_name_map:\n",
    "        if func(one_hand):\n",
    "            name = n\n",
    "            break\n",
    "        \n",
    "    return name"
   ]
  },
  {
   "cell_type": "code",
   "execution_count": 306,
   "metadata": {},
   "outputs": [
    {
     "data": {
      "application/vnd.jupyter.widget-view+json": {
       "model_id": "d1694e717ea64973b369db5b0ab5bdd1",
       "version_major": 2,
       "version_minor": 0
      },
      "text/plain": [
       "HBox(children=(HTML(value=''), FloatProgress(value=0.0, max=10000.0), HTML(value='')))"
      ]
     },
     "metadata": {},
     "output_type": "display_data"
    },
    {
     "name": "stdout",
     "output_type": "stream",
     "text": [
      "\n"
     ]
    }
   ],
   "source": [
    "cards_count = defaultdict(int)\n",
    "\n",
    "for n in tqdm(range(10000)):\n",
    "    one_hand_card = generate_one()\n",
    "\n",
    "    name = get_feature_name(one_hand_card)\n",
    "    \n",
    "    cards_count[name] += 1\n",
    "    \n",
    "    #print('{} : {}'.format(one_hand_card, name))"
   ]
  },
  {
   "cell_type": "code",
   "execution_count": 307,
   "metadata": {},
   "outputs": [
    {
     "data": {
      "text/plain": [
       "defaultdict(int,\n",
       "            {'啥也不是': 7445,\n",
       "             '对子': 1691,\n",
       "             '清一色': 486,\n",
       "             '顺子': 332,\n",
       "             '同花顺': 27,\n",
       "             '豹子': 19})"
      ]
     },
     "execution_count": 307,
     "metadata": {},
     "output_type": "execute_result"
    }
   ],
   "source": [
    "cards_count"
   ]
  },
  {
   "cell_type": "code",
   "execution_count": 308,
   "metadata": {},
   "outputs": [
    {
     "name": "stdout",
     "output_type": "stream",
     "text": [
      "啥也不是的概率是0.7445\n",
      "对子的概率是0.1691\n",
      "清一色的概率是0.0486\n",
      "顺子的概率是0.0332\n",
      "同花顺的概率是0.0027\n",
      "豹子的概率是0.0019\n"
     ]
    }
   ],
   "source": [
    "for f, n in cards_count.items():\n",
    "    print('{}的概率是{}'.format(f,  n / sum(cards_count.values())))"
   ]
  },
  {
   "cell_type": "markdown",
   "metadata": {},
   "source": [
    "## 正确的顺序: 啥也不是 < 对子 < 清一色 < 顺子 < 豹子 < 同花顺"
   ]
  },
  {
   "cell_type": "markdown",
   "metadata": {},
   "source": [
    "\n",
    "# 如果不用计算机，有些数学好的同学，直接算出来~"
   ]
  },
  {
   "cell_type": "markdown",
   "metadata": {},
   "source": [
    "# 5个人玩，给五个人发牌，一个人拿到了“清一色”\n",
    "# \"别的人都是比清一色小的牌， 的概率是多少“"
   ]
  },
  {
   "cell_type": "code",
   "execution_count": 276,
   "metadata": {},
   "outputs": [],
   "source": [
    "team_cards = []"
   ]
  },
  {
   "cell_type": "code",
   "execution_count": 309,
   "metadata": {},
   "outputs": [],
   "source": [
    "feature_value_map = {\n",
    "    '啥也不是': 0,\n",
    "    '对子': 1,\n",
    "    '清一色': 2,\n",
    "    '顺子': 3,\n",
    "    '豹子': 4,\n",
    "    '同花顺': 5\n",
    "}"
   ]
  },
  {
   "cell_type": "code",
   "execution_count": 310,
   "metadata": {},
   "outputs": [],
   "source": [
    "def is_event(team_cards):\n",
    "    sorted_cards = sorted(team_cards, key=lambda c_n:  feature_value_map[c_n[0]])\n",
    "    return sorted_cards[-1][0] == '清一色' and sorted_cards[-2][0] != '清一色'"
   ]
  },
  {
   "cell_type": "code",
   "execution_count": 311,
   "metadata": {},
   "outputs": [
    {
     "data": {
      "text/plain": [
       "True"
      ]
     },
     "execution_count": 311,
     "metadata": {},
     "output_type": "execute_result"
    }
   ],
   "source": [
    "is_event(team_cards)"
   ]
  },
  {
   "cell_type": "code",
   "execution_count": 333,
   "metadata": {},
   "outputs": [
    {
     "data": {
      "application/vnd.jupyter.widget-view+json": {
       "model_id": "d913be447b4d41e997037527eab5747d",
       "version_major": 2,
       "version_minor": 0
      },
      "text/plain": [
       "HBox(children=(HTML(value=''), FloatProgress(value=0.0, max=10000.0), HTML(value='')))"
      ]
     },
     "metadata": {},
     "output_type": "display_data"
    },
    {
     "name": "stdout",
     "output_type": "stream",
     "text": [
      "\n"
     ]
    }
   ],
   "source": [
    "total_times = 10000\n",
    "total_people = 17\n",
    "events = []\n",
    "space = []\n",
    "\n",
    "for ti_ in tqdm(range(total_times)):\n",
    "    indices = {i: False for i in range(len(all_cards))}\n",
    "\n",
    "    all_cards = ['{}-{}'.format(c, n) for c in 花色s for n in 数字s]\n",
    "    \n",
    "    team_cards = []\n",
    "    \n",
    "    for p in range(total_people):\n",
    "        all_cards_not_choosen = [i for i, choose in indices.items() if choose is False]\n",
    "        choose_cards_indices = random.sample(all_cards_not_choosen, 3)\n",
    "        one_hand_cards = [all_cards[c] for c in choose_cards_indices]\n",
    "        for c in choose_cards_indices: indices[c] = True\n",
    "\n",
    "        f_name = get_feature_name(one_hand_cards)\n",
    "\n",
    "        team_cards.append((f_name, one_hand_cards))\n",
    "\n",
    "    if any(f == '清一色' for f, n in team_cards):\n",
    "        space.append(team_cards)\n",
    "        \n",
    "    if is_event(team_cards):\n",
    "        events.append(team_cards)"
   ]
  },
  {
   "cell_type": "code",
   "execution_count": 334,
   "metadata": {},
   "outputs": [
    {
     "data": {
      "text/plain": [
       "5668"
      ]
     },
     "execution_count": 334,
     "metadata": {},
     "output_type": "execute_result"
    }
   ],
   "source": [
    "len(space)"
   ]
  },
  {
   "cell_type": "code",
   "execution_count": 335,
   "metadata": {},
   "outputs": [
    {
     "data": {
      "text/plain": [
       "1892"
      ]
     },
     "execution_count": 335,
     "metadata": {},
     "output_type": "execute_result"
    }
   ],
   "source": [
    "len(events)"
   ]
  },
  {
   "cell_type": "markdown",
   "metadata": {},
   "source": [
    "## 当5个人玩牌的时候，如果你拿到了清一色，那么你一定是最大的牌的概率是："
   ]
  },
  {
   "cell_type": "code",
   "execution_count": 327,
   "metadata": {},
   "outputs": [
    {
     "data": {
      "text/plain": [
       "0.7766004415011037"
      ]
     },
     "execution_count": 327,
     "metadata": {},
     "output_type": "execute_result"
    }
   ],
   "source": [
    "len(events) / len( space )"
   ]
  },
  {
   "cell_type": "markdown",
   "metadata": {},
   "source": [
    "## 当10个人的时候，如果你拿到了清一色，那么你一定是最大的牌的概率是："
   ]
  },
  {
   "cell_type": "code",
   "execution_count": 331,
   "metadata": {},
   "outputs": [
    {
     "data": {
      "text/plain": [
       "0.5521487811007791"
      ]
     },
     "execution_count": 331,
     "metadata": {},
     "output_type": "execute_result"
    }
   ],
   "source": [
    "len(events) / len( space )"
   ]
  },
  {
   "cell_type": "markdown",
   "metadata": {},
   "source": [
    "## 当17个人的时候，如果你拿到了清一色，那么你一定是最大的牌的概率是："
   ]
  },
  {
   "cell_type": "code",
   "execution_count": 336,
   "metadata": {},
   "outputs": [
    {
     "data": {
      "text/plain": [
       "0.33380381086803107"
      ]
     },
     "execution_count": 336,
     "metadata": {},
     "output_type": "execute_result"
    }
   ],
   "source": [
    "len(events) / len( space )"
   ]
  },
  {
   "cell_type": "code",
   "execution_count": 320,
   "metadata": {},
   "outputs": [
    {
     "data": {
      "text/plain": [
       "[[('清一色', ['♥-2', '♥-8', '♥-K']),\n",
       "  ('啥也不是', ['♦-7', '♠-J', '♦-A']),\n",
       "  ('啥也不是', ['♥-J', '♦-2', '♥-4']),\n",
       "  ('同花顺', ['♠-3', '♠-5', '♠-4']),\n",
       "  ('顺子', ['♦-10', '♥-9', '♦-8'])]]"
      ]
     },
     "execution_count": 320,
     "metadata": {},
     "output_type": "execute_result"
    }
   ],
   "source": [
    "random.sample(space, 1)"
   ]
  },
  {
   "cell_type": "markdown",
   "metadata": {},
   "source": [
    "## 3天时间手动创造一个深度学习框架\n",
    "## 第一天：从随机模拟 --> 梯度下降 -> 深度学习"
   ]
  },
  {
   "cell_type": "markdown",
   "metadata": {},
   "source": [
    "个人微信： fortymiles"
   ]
  },
  {
   "cell_type": "code",
   "execution_count": 339,
   "metadata": {},
   "outputs": [
    {
     "name": "stdout",
     "output_type": "stream",
     "text": [
      " 驱动器 C 中的卷没有标签。\n",
      " 卷的序列号是 AA58-2734\n",
      "\n",
      " C:\\Users\\Administrator 的目录\n",
      "\n",
      "2021/09/30 周四  21:30    <DIR>          .\n",
      "2021/09/30 周四  21:30    <DIR>          ..\n",
      "2020/07/16 周四  15:23    <DIR>          .android\n",
      "2021/01/08 周五  18:44    <DIR>          .astropy\n",
      "2021/09/30 周四  19:22    <DIR>          .baoshiyun\n",
      "2021/03/25 周四  21:00    <DIR>          .cache\n",
      "2021/01/08 周五  18:38    <DIR>          .conda\n",
      "2021/01/08 周五  18:07                43 .condarc\n",
      "2021/01/08 周五  18:47    <DIR>          .config\n",
      "2021/04/16 周五  22:59    <DIR>          .huikelive\n",
      "2021/04/21 周三  23:11                16 .ideavimrc\n",
      "2020/09/03 周四  20:45    <DIR>          .idlerc\n",
      "2020/11/27 周五  18:11         2,594,494 .ipynb\n",
      "2021/09/30 周四  21:30    <DIR>          .ipynb_checkpoints\n",
      "2020/07/18 周六  15:31    <DIR>          .ipython\n",
      "2020/07/18 周六  16:30    <DIR>          .jupyter\n",
      "2021/05/29 周六  21:08    <DIR>          .matplotlib\n",
      "2021/01/08 周五  18:11                44 .python_history\n",
      "2020/08/21 周五  14:34    <DIR>          .ssh\n",
      "2019/11/27 周三  17:48    <DIR>          .uuid_airlink\n",
      "2021/08/12 周四  23:21    <DIR>          3D Objects\n",
      "2020/07/18 周六  15:27    <DIR>          anaconda3\n",
      "2019/12/14 周六  18:43    <DIR>          ansel\n",
      "2021/03/07 周日  22:50            92,168 boston.dot\n",
      "2021/03/06 周六  12:02         3,011,858 Build-neural-network-from-scrach-Lesson-02.ipynb\n",
      "2021/01/26 周二  19:10           931,413 Build-Neural_Networks-Day-03.ipynb\n",
      "2021/09/30 周四  21:30            18,253 Computer-Simulation.ipynb\n",
      "2019/11/27 周三  17:56    <DIR>          config\n",
      "2021/08/12 周四  23:21    <DIR>          Contacts\n",
      "2020/07/18 周六  22:34    <DIR>          course-code\n",
      "2021/09/28 周二  20:28    <DIR>          Desktop\n",
      "2021/09/26 周日  18:35    <DIR>          Documents\n",
      "2021/03/19 周五  16:41           203,561 dog.jpg\n",
      "2021/09/29 周三  19:25    <DIR>          Downloads\n",
      "2021/08/12 周四  23:21    <DIR>          Favorites\n",
      "2021/04/09 周五  12:07            23,361 Figure_1.png\n",
      "2019/09/21 周六  16:36    <DIR>          Funshion\n",
      "2021/03/18 周四  12:16            92,032 Generate Data For RNN.ipynb\n",
      "2021/01/25 周一  18:00           367,655 huge_graph.png\n",
      "2020/11/27 周五  22:23    <DIR>          kk_flow\n",
      "2021/03/09 周二  19:25            62,339 Learning-SVM.ipynb\n",
      "2021/06/03 周四  14:41           140,091 lecture-02-kernel-ai-k-means-finding-centers.ipynb\n",
      "2021/02/25 周四  23:26           235,636 lecture-02.ipynb\n",
      "2021/03/07 周日  22:55           153,623 Lecture-05.ipynb\n",
      "2021/03/18 周四  15:28            63,459 Lecture-08 RNN-LSTM-GRU.ipynb\n",
      "2021/01/10 周日  19:11         1,112,733 Lesson-02.ipynb\n",
      "2021/01/26 周二  19:19           367,741 Lesson-03-New-Version.ipynb\n",
      "2021/08/12 周四  23:21    <DIR>          Links\n",
      "2021/08/12 周四  23:21    <DIR>          Music\n",
      "2021/03/28 周日  11:13         3,709,623 Neural-Netowrk-Class-Code-V1.ipynb\n",
      "2021/01/25 周一  19:09         1,996,580 New-Version-Day2.ipynb\n",
      "2020/04/13 周一  11:14    <DIR>          OneDrive\n",
      "2021/03/28 周日  21:11            14,524 penyuyan.jpg\n",
      "2021/08/12 周四  23:21    <DIR>          Pictures\n",
      "2021/04/16 周五  22:12    <DIR>          Postman\n",
      "2021/01/06 周三  16:25                 0 propogation_note.txt\n",
      "2021/09/29 周三  19:26    <DIR>          PycharmProjects\n",
      "2021/03/01 周一  14:54             3,368 PythonSample.ipynb\n",
      "2021/02/17 周三  13:25             7,665 Python科学计算.ipynb\n",
      "2021/03/17 周三  14:09         1,314,785 sales_data_for_a_week.csv\n",
      "2021/08/12 周四  23:21    <DIR>          Saved Games\n",
      "2021/08/12 周四  23:21    <DIR>          Searches\n",
      "2021/03/28 周日  12:45            53,515 test_dog.jpg\n",
      "2021/03/18 周四  18:32        11,226,197 time_serise_revenue.csv\n",
      "2021/03/18 周四  18:32        14,672,133 time_serise_sale.csv\n",
      "2020/07/10 周五  19:18    <DIR>          UIDowner\n",
      "2020/12/21 周一  19:17             1,051 Untitled.ipynb\n",
      "2020/11/27 周五  18:15             3,694 Untitled1.ipynb\n",
      "2021/01/26 周二  22:38         2,914,182 Untitled10.ipynb\n",
      "2021/02/07 周日  11:36            29,952 Untitled11.ipynb\n",
      "2021/02/21 周日  21:36             3,456 Untitled12.ipynb\n",
      "2021/02/28 周日  21:58             5,998 Untitled13.ipynb\n",
      "2021/03/24 周三  23:04            47,489 Untitled14.ipynb\n",
      "2021/03/24 周三  23:06               555 Untitled15.ipynb\n",
      "2021/03/25 周四  15:32             6,613 Untitled16.ipynb\n",
      "2021/03/28 周日  12:53         1,182,380 Untitled17.ipynb\n",
      "2021/03/28 周日  19:40             1,828 Untitled18.ipynb\n",
      "2021/03/29 周一  21:15             6,804 Untitled19.ipynb\n",
      "2021/01/16 周六  08:29         2,594,494 Untitled2.ipynb\n",
      "2021/03/28 周日  21:34           606,694 Untitled20.ipynb\n",
      "2020/11/27 周五  20:51            38,110 Untitled3.ipynb\n",
      "2020/11/27 周五  22:28               886 Untitled4.ipynb\n",
      "2020/12/21 周一  18:56               577 Untitled5.ipynb\n",
      "2020/12/22 周二  22:20           549,621 Untitled6.ipynb\n",
      "2020/12/21 周一  21:56                72 Untitled7.ipynb\n",
      "2020/12/23 周三  21:28         1,149,093 Untitled8.ipynb\n",
      "2021/01/10 周日  22:08         1,910,643 Untitled9.ipynb\n",
      "2021/09/22 周三  21:00    <DIR>          Videos\n",
      "2019/12/10 周二  20:56    <DIR>          Yinxiang Biji\n",
      "2021/09/14 周二  18:34    <DIR>          刘超\n",
      "2021/01/27 周三  12:55    <DIR>          学员评价\n",
      "2021/09/14 周二  18:36    <DIR>          影视后期-微盟-头条-视频3个\n",
      "2021/09/14 周二  18:35    <DIR>          新建文件夹\n",
      "2021/01/06 周三  17:25    <DIR>          课程需要的图片\n",
      "              50 个文件     53,523,102 字节\n",
      "              44 个目录  1,892,610,048 可用字节\n"
     ]
    }
   ],
   "source": [
    "!dir"
   ]
  },
  {
   "cell_type": "code",
   "execution_count": null,
   "metadata": {},
   "outputs": [],
   "source": []
  },
  {
   "cell_type": "code",
   "execution_count": null,
   "metadata": {},
   "outputs": [],
   "source": []
  }
 ],
 "metadata": {
  "kernelspec": {
   "display_name": "Python 3",
   "language": "python",
   "name": "python3"
  },
  "language_info": {
   "codemirror_mode": {
    "name": "ipython",
    "version": 3
   },
   "file_extension": ".py",
   "mimetype": "text/x-python",
   "name": "python",
   "nbconvert_exporter": "python",
   "pygments_lexer": "ipython3",
   "version": "3.8.5"
  }
 },
 "nbformat": 4,
 "nbformat_minor": 4
}
