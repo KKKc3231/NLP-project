{
 "cells": [
  {
   "cell_type": "code",
   "execution_count": 1,
   "metadata": {},
   "outputs": [],
   "source": [
    "text = '有一个帅比叫强哥，还有一个帅比叫强二哥，还有一个帅比叫强三哥'"
   ]
  },
  {
   "cell_type": "code",
   "execution_count": 2,
   "metadata": {},
   "outputs": [
    {
     "data": {
      "text/plain": [
       "['强哥', '强二哥', '强三哥']"
      ]
     },
     "execution_count": 2,
     "metadata": {},
     "output_type": "execute_result"
    }
   ],
   "source": [
    "#找到所有姓强的帅比的名字: 强x | 强xx\n",
    "import re\n",
    "result = re.findall(r'强\\w{1,2}', text)\n",
    "result"
   ]
  },
  {
   "cell_type": "code",
   "execution_count": 3,
   "metadata": {},
   "outputs": [
    {
     "data": {
      "text/plain": [
       "['178', '168', '123456', '9527']"
      ]
     },
     "execution_count": 3,
     "metadata": {},
     "output_type": "execute_result"
    }
   ],
   "source": [
    "# - 所有的数字\n",
    "text = \"身高:178，体重：168，学号：123456，密码:9527\"\n",
    "result = re.findall(r'\\d+', text)\n",
    "result"
   ]
  },
  {
   "cell_type": "code",
   "execution_count": 4,
   "metadata": {},
   "outputs": [
    {
     "data": {
      "text/plain": [
       "['hello', 'My', 'name', 'is', 'qiangge']"
      ]
     },
     "execution_count": 4,
     "metadata": {},
     "output_type": "execute_result"
    }
   ],
   "source": [
    "# - 所有的单词\n",
    "text = \"hello, 你好吗？, My name is qiangge\"\n",
    "result = re.findall(r'[a-zA-Z]+', text)\n",
    "result"
   ]
  },
  {
   "cell_type": "code",
   "execution_count": 5,
   "metadata": {},
   "outputs": [
    {
     "data": {
      "text/plain": [
       "['18812345678', '18887654321']"
      ]
     },
     "execution_count": 5,
     "metadata": {},
     "output_type": "execute_result"
    }
   ],
   "source": [
    "# - 包含手机号码\n",
    "text = '强哥的电话是18812345678，他还有一个电话号码是18887654321，他爱好的数字是01234567891，他的座机是：0571-52152166'\n",
    "result = re.findall(r'1[3-9]\\d{9}', text)\n",
    "result"
   ]
  },
  {
   "cell_type": "code",
   "execution_count": 6,
   "metadata": {},
   "outputs": [
    {
     "data": {
      "text/plain": [
       "['0571-52152166']"
      ]
     },
     "execution_count": 6,
     "metadata": {},
     "output_type": "execute_result"
    }
   ],
   "source": [
    "# - 包含区号和电话号码\n",
    "text = '强哥的电话是18812345678，他还有一个电话号码是18887654321，他爱好的数字是01234567891，他的座机是：0571-52152166'\n",
    "result = re.findall(r'\\d{3,4}-\\d{7,8}', text)\n",
    "result"
   ]
  },
  {
   "cell_type": "code",
   "execution_count": 7,
   "metadata": {},
   "outputs": [
    {
     "data": {
      "text/plain": [
       "['18812345678', '18887654321', '0571-52152166']"
      ]
     },
     "execution_count": 7,
     "metadata": {},
     "output_type": "execute_result"
    }
   ],
   "source": [
    "# - 手机号码或者电话号码\n",
    "text = '强哥的电话是18812345678，他还有一个电话号码是18887654321，他爱好的数字是01234567891，他的座机是：0571-52152166'\n",
    "result = re.findall(r'1[3-9]\\d{9}|\\d{3,4}-\\d{7,8}', text)\n",
    "result"
   ]
  },
  {
   "cell_type": "code",
   "execution_count": 8,
   "metadata": {},
   "outputs": [
    {
     "name": "stdout",
     "output_type": "stream",
     "text": [
      "0571-52152166\n",
      "0571\n",
      "52152166\n"
     ]
    }
   ],
   "source": [
    "# - 区号和电话号码\n",
    "# - 包含区号和电话号码\n",
    "text = '强哥的电话是18812345678，他还有一个电话号码是18887654321，他爱好的数字是01234567891，他的座机是：0571-52152166'\n",
    "result = re.search(r'(\\d{3,4})-(\\d{7,8})', text)\n",
    "print(result.group(0))\n",
    "print(result.group(1))\n",
    "print(result.group(2))"
   ]
  },
  {
   "cell_type": "code",
   "execution_count": 10,
   "metadata": {},
   "outputs": [
    {
     "name": "stdout",
     "output_type": "stream",
     "text": [
      "['强哥']\n"
     ]
    }
   ],
   "source": [
    "text = '强哥的电话是18812345678，强二哥他还有一个电话号码是18887654321，他爱好的数字是01234567891，他的座机是：0571-52152166'\n",
    "result = re.findall(r'^强\\w', text)\n",
    "print(result)"
   ]
  },
  {
   "cell_type": "code",
   "execution_count": 11,
   "metadata": {},
   "outputs": [
    {
     "name": "stdout",
     "output_type": "stream",
     "text": [
      "('强哥的电话是***，他还有一个电话号码是***，他爱好的数字是01234567891，他的座机是：***', 3)\n",
      "强哥的电话是18812345678，他还有一个电话号码是18887654321，他爱好的数字是01234567891，他的座机是：0571-52152166\n"
     ]
    }
   ],
   "source": [
    "text = '强哥的电话是18812345678，他还有一个电话号码是18887654321，他爱好的数字是01234567891，他的座机是：0571-52152166'\n",
    "print(re.subn(r'1[3-9]\\d{9}|\\d{3,4}-\\d{7,8}', '***', text))\n",
    "print(text)"
   ]
  },
  {
   "cell_type": "code",
   "execution_count": 12,
   "metadata": {},
   "outputs": [
    {
     "name": "stdout",
     "output_type": "stream",
     "text": [
      "['  ', '  ']\n"
     ]
    }
   ],
   "source": [
    "text = \"  how ARE you? what are your names?  \"\n",
    "print(re.findall(r'^\\s+|\\s+$', text, flags=re.I))"
   ]
  },
  {
   "cell_type": "code",
   "execution_count": 13,
   "metadata": {},
   "outputs": [
    {
     "name": "stdout",
     "output_type": "stream",
     "text": [
      "[('bar', 'bar'), ('car', 'car')]\n"
     ]
    }
   ],
   "source": [
    "text = 'barbar carcar harhel'\n",
    "print(re.findall(r'(\\w{3})(\\1)', text))"
   ]
  },
  {
   "cell_type": "code",
   "execution_count": 14,
   "metadata": {},
   "outputs": [
    {
     "name": "stdout",
     "output_type": "stream",
     "text": [
      "['9527']\n"
     ]
    }
   ],
   "source": [
    "text = \"身高:178，体重：168，学号：123456，密码:9527\"\n",
    "print(re.findall(r'(?<=密码.)\\d+', text))"
   ]
  },
  {
   "cell_type": "code",
   "execution_count": 15,
   "metadata": {},
   "outputs": [],
   "source": [
    "#level 1 - 固定的字符串\n",
    "#确定字符串中是否有123456\n",
    "text = '强哥身高:178，体重：168，学号：123456，密码:9527'"
   ]
  },
  {
   "cell_type": "code",
   "execution_count": 16,
   "metadata": {},
   "outputs": [
    {
     "name": "stdout",
     "output_type": "stream",
     "text": [
      "找到了\n",
      "19\n"
     ]
    }
   ],
   "source": [
    "target = '123456'\n",
    "if target in text:\n",
    "\tprint('找到了')\n",
    "print(text.index(target))"
   ]
  },
  {
   "cell_type": "code",
   "execution_count": 17,
   "metadata": {},
   "outputs": [
    {
     "name": "stdout",
     "output_type": "stream",
     "text": [
      "['123456']\n"
     ]
    }
   ],
   "source": [
    "print(re.findall(r'123456', text))"
   ]
  },
  {
   "cell_type": "code",
   "execution_count": 18,
   "metadata": {},
   "outputs": [
    {
     "name": "stdout",
     "output_type": "stream",
     "text": [
      "['1', '7', '8', '1', '6', '8', '1', '2', '3', '4', '5', '6', '9', '5', '2', '7']\n"
     ]
    }
   ],
   "source": [
    "#level2 - 一类字符\n",
    "#找出所有的数字\n",
    "text = '强哥身高:178，体重：168，学号：123456，密码:9527'\n",
    "print(re.findall(r'\\d', text))"
   ]
  },
  {
   "cell_type": "code",
   "execution_count": 19,
   "metadata": {},
   "outputs": [
    {
     "name": "stdout",
     "output_type": "stream",
     "text": [
      "['178', '168', '123456', '9527']\n"
     ]
    }
   ],
   "source": [
    "#level3 - 重复某一类字符 \n",
    "#要求：找所有的数字，这不是固定的，而是一个模式：连续重复的数字\n",
    "text = '强哥身高:178，体重：168，学号：123456，密码:9527'\n",
    "print(re.findall(r'\\d+', text))"
   ]
  },
  {
   "cell_type": "code",
   "execution_count": 20,
   "metadata": {},
   "outputs": [
    {
     "name": "stdout",
     "output_type": "stream",
     "text": [
      "['0571-52152166']\n"
     ]
    }
   ],
   "source": [
    "#leve4 - 组合level2\n",
    "#找出座机号码\n",
    "text = '强哥电话是18812345678，他还有一个电话号码是18887654321，他爱好的数字是01234567891，他的座机是：0571-52152166'\n",
    "print(re.findall(r'\\d{4}-\\d{8}', text))"
   ]
  },
  {
   "cell_type": "code",
   "execution_count": 21,
   "metadata": {},
   "outputs": [
    {
     "name": "stdout",
     "output_type": "stream",
     "text": [
      "['18812345678', '18887654321', '0571-52152166']\n"
     ]
    }
   ],
   "source": [
    "#leve5 - 多种情况\n",
    "#找出电话号码或者座机号码\n",
    "text = '强哥电话是18812345678，他还有一个电话号码是18887654321，他爱好的数字是01234567891，他的座机是：0571-52152166'\n",
    "print(re.findall(r'\\d{4}-\\d{8}|1\\d{10}', text))\n"
   ]
  },
  {
   "cell_type": "code",
   "execution_count": 22,
   "metadata": {},
   "outputs": [
    {
     "name": "stdout",
     "output_type": "stream",
     "text": [
      "['18812345678']\n"
     ]
    }
   ],
   "source": [
    "#level6 - 限定位置\n",
    "#在句子开头的手机号码,或座机\n",
    "text = '18812345678，他还有一个电话号码是18887654321，他爱好的数字是01234567891，他的座机是：0571-52152166'\n",
    "print(re.findall(r'^1\\d{10}|^\\d{4}-\\d{8}', text))"
   ]
  },
  {
   "cell_type": "code",
   "execution_count": 23,
   "metadata": {},
   "outputs": [
    {
     "name": "stdout",
     "output_type": "stream",
     "text": [
      "[('bar', 'bar'), ('car', 'car')]\n"
     ]
    }
   ],
   "source": [
    "#level7 - 内部约束\n",
    "#找出形如barbar, dardar的前后三个字母重复的字符串\n",
    "text = 'barbar carcar harhel'\n",
    "print(re.findall(r'(\\w{3})(\\1)', text))"
   ]
  },
  {
   "cell_type": "code",
   "execution_count": 25,
   "metadata": {},
   "outputs": [
    {
     "name": "stdout",
     "output_type": "stream",
     "text": [
      "['0571-52152166', '0571-52152188-1234']\n"
     ]
    }
   ],
   "source": [
    "# 模式包含几个部分\n",
    "#各个部分的字符分类是什么\n",
    "#各个部分如何重复\n",
    "#是否有外部位置限制\n",
    "#是否有内部位置限制\n",
    "text = '随机数字：01234567891，座机1：0571-52152166，座机2：0571-52152188-1234'\n",
    "print(re.findall(r'\\d{3,4}-\\d{7,8}-\\d{3,4}|\\d{3,4}-\\d{7,8}', text))"
   ]
  },
  {
   "cell_type": "code",
   "execution_count": 26,
   "metadata": {},
   "outputs": [
    {
     "name": "stdout",
     "output_type": "stream",
     "text": [
      "('***, fadsfafas ***, ***', 3)\n"
     ]
    }
   ],
   "source": [
    "text = \"aBc, fadsfafas Abc, ABC\"\n",
    "result = re.subn(r'abc', '***', text, flags=re.I)\n",
    "print(result)"
   ]
  },
  {
   "cell_type": "code",
   "execution_count": 27,
   "metadata": {},
   "outputs": [
    {
     "name": "stdout",
     "output_type": "stream",
     "text": [
      "['foo', 'bar', 'baz', 'qux']\n"
     ]
    }
   ],
   "source": [
    "text = 'abc,  ddd？ xxx。ffff'\n",
    "result = re.split(r'\\s*[,;/]\\s*', 'foo,bar  ;  baz / qux')\n",
    "print(result)"
   ]
  },
  {
   "cell_type": "code",
   "execution_count": 28,
   "metadata": {},
   "outputs": [
    {
     "name": "stdout",
     "output_type": "stream",
     "text": [
      "<re.Match object; span=(34, 47), match='0571-52152188'>\n",
      "<re.Match object; span=(72, 85), match='0571-52152166'>\n"
     ]
    }
   ],
   "source": [
    "text = '18812345678，他还有一个电话号码是18887654321，0571-52152188他爱好的数字是01234567891，他的座机是：0571-52152166'\n",
    "it = re.finditer(r'(\\d{4})-(\\d{8})', text)\n",
    "for m in it:\n",
    "\tprint(m)"
   ]
  },
  {
   "cell_type": "code",
   "execution_count": null,
   "metadata": {},
   "outputs": [],
   "source": []
  }
 ],
 "metadata": {
  "kernelspec": {
   "display_name": "Python 3",
   "language": "python",
   "name": "python3"
  },
  "language_info": {
   "codemirror_mode": {
    "name": "ipython",
    "version": 3
   },
   "file_extension": ".py",
   "mimetype": "text/x-python",
   "name": "python",
   "nbconvert_exporter": "python",
   "pygments_lexer": "ipython3",
   "version": "3.7.4"
  }
 },
 "nbformat": 4,
 "nbformat_minor": 4
}
